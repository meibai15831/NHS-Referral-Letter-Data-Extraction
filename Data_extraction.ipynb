{
 "cells": [
  {
   "cell_type": "code",
   "execution_count": 1,
   "id": "c738e161",
   "metadata": {},
   "outputs": [],
   "source": [
    "import re\n",
    "import parse\n",
    "import pdfplumber\n",
    "import pandas as pd\n",
    "from collections import namedtuple\n"
   ]
  },
  {
   "cell_type": "code",
   "execution_count": 2,
   "id": "d8bb63bd",
   "metadata": {},
   "outputs": [],
   "source": [
    "#Column Names\n",
    "Line= namedtuple('Line_test', 'referral_id patient_id patient_name patient_date_of_birth patient_sex gp_suggested_priority gp_suggested_specialty referral_short_text referral_date referring_gp_site_name')\n",
    "file = 'Example_Clinical_Information_Summary.pdf'"
   ]
  },
  {
   "cell_type": "code",
   "execution_count": 3,
   "id": "0e5e73b9",
   "metadata": {},
   "outputs": [],
   "source": [
    "lines = []\n",
    "with pdfplumber.open(file) as pdf:\n",
    "    pages = pdf.pages\n",
    "    for page in pdf.pages:\n",
    "        text = page.extract_text()\n",
    "        for line in text.split('\\n'):\n",
    "            #print(line)\n",
    "            if re.findall('Referring Organisation:  (.*)  Clinical', line):\n",
    "                referring_gp_site_name=re.compile('Referring Organisation:  (.*)  Clinical').search(line).group(1)\n",
    "            elif re.findall(r'UBRN:  (.*)  Age', line):\n",
    "                referral_id=re.compile(r'UBRN:  (.*)  Age').search(line).group(1)\n",
    "            elif re.findall(r'NHS:  (.*)  Gender:  (.*)', line):\n",
    "                patient_id=re.compile(r'NHS:  (.*)  Gender').search(line).group(1)\n",
    "                if re.findall(r'Gender:  (.*)', line):\n",
    "                    patient_sex =re.compile(r'Gender:  (.*) ').search(line).group(1)\n",
    "\n",
    "            elif re.findall(r'Patient:  (.*)  Date', line):\n",
    "                patient_name=re.compile(r'Patient:  (.*)  Date').search(line).group(1)\n",
    "                if re.findall('Date of Birth:  (.*) ', line):\n",
    "                    patient_date_of_birth= re.compile('Date of Birth:  (.*) ').search(line).group(1)\n",
    "                  \n",
    "            elif re.findall(r'Priority:  (.*)', line):\n",
    "                gp_suggested_priority=re.compile(r'Priority:  (.*) ').search(line).group(1)\n",
    "                \n",
    "            elif re.findall(r'Clinical Context:  (.*)/', line):\n",
    "                gp_suggested_specialty=re.compile(r'Clinical Context:  (.*)/').search(line).group(1)\n",
    "            \n",
    "            elif re.findall('Clinical Term:  (.*) ', line):\n",
    "                referral_short_text=re.compile(r'Clinical Term:  (.*)').search(line).group(1)\n",
    "            \n",
    "            elif re.findall(r'Referral Created Date:  (.*)', line):\n",
    "                referral_date=re.compile(r'Referral Created Date:  (.*\\d{4})').search(line).group(1)\n",
    "            \n",
    "            elif re.findall(r'Referring Organisation:  (.*)', line):\n",
    "                referring_gp_site_name=re.compile(r'Referring Organisation:  (.*)').search(line).group(1)\n",
    "            \n",
    "            elif re.compile('^Referring Organisation:  (.*)  Clinical').search(line):\n",
    "                referring_gp_site_name=re.compile('^Referring Organisation:  (.*)  Clinical').search(line).group(1)\n",
    "            "
   ]
  },
  {
   "cell_type": "code",
   "execution_count": 4,
   "id": "d81843e3",
   "metadata": {},
   "outputs": [],
   "source": [
    "lines = []\n",
    "with pdfplumber.open(file) as pdf:\n",
    "    pages = pdf.pages\n",
    "    for page in pdf.pages:\n",
    "        text = page.extract_text()\n",
    "        for line in text.split('\\n'):\n",
    "            #print(line)\n",
    "            if re.findall('Referring Organisation:  (.*)  Clinical', line):\n",
    "                referring_gp_site_name=re.compile('Referring Organisation:  (.*)  Clinical').search(line).group(1)\n",
    "            elif re.findall(r'UBRN:  (.*)  Age', line):\n",
    "                referral_id=re.compile(r'UBRN:  (.*)  Age').search(line).group(1)\n",
    "            elif re.findall(r'NHS:  (.*)  Gender:  (.*)', line):\n",
    "                patient_id=re.compile(r'NHS:  (.*)  Gender').search(line).group(1)\n",
    "                if re.findall(r'Gender:  (.*)', line):\n",
    "                    patient_sex =re.compile(r'Gender:  (.*) ').search(line).group(1)\n",
    "\n",
    "            elif re.findall(r'Patient:  (.*)  Date', line):\n",
    "                patient_name=re.compile(r'Patient:  (.*)  Date').search(line).group(1)\n",
    "                if re.findall('Date of Birth:  (.*) ', line):\n",
    "                    patient_date_of_birth= re.compile('Date of Birth:  (.*) ').search(line).group(1)\n",
    "                  \n",
    "            elif re.findall(r'Priority:  (.*)', line):\n",
    "                gp_suggested_priority=re.compile(r'Priority:  (.*) ').search(line).group(1)\n",
    "                \n",
    "            elif re.findall(r'Clinical Context:  (.*)/', line):\n",
    "                gp_suggested_specialty=re.compile(r'Clinical Context:  (.*)/').search(line).group(1)\n",
    "            \n",
    "            elif re.findall('Clinical Term:  (.*) ', line):\n",
    "                referral_short_text=re.compile(r'Clinical Term:  (.*)').search(line).group(1)\n",
    "            \n",
    "            elif re.findall(r'Referral Created Date:  (.*)', line):\n",
    "                referral_date=re.compile(r'Referral Created Date:  (.*\\d{4})').search(line).group(1)\n",
    "            \n",
    "            elif re.findall(r'Referring Organisation:  (.*)', line):\n",
    "                referring_gp_site_name=re.compile(r'Referring Organisation:  (.*)').search(line).group(1)\n",
    "            \n",
    "            elif re.compile('^Referring Organisation:  (.*)  Clinical').search(line):\n",
    "                referring_gp_site_name=re.compile('^Referring Organisation:  (.*)  Clinical').search(line).group(1)\n",
    "            lines.append(Line(referral_id,patient_id, patient_name,patient_date_of_birth,patient_sex,gp_suggested_priority,gp_suggested_specialty,referral_short_text,referral_date,referring_gp_site_name))"
   ]
  },
  {
   "cell_type": "code",
   "execution_count": 5,
   "id": "475141a1",
   "metadata": {},
   "outputs": [
    {
     "data": {
      "text/html": [
       "<div>\n",
       "<style scoped>\n",
       "    .dataframe tbody tr th:only-of-type {\n",
       "        vertical-align: middle;\n",
       "    }\n",
       "\n",
       "    .dataframe tbody tr th {\n",
       "        vertical-align: top;\n",
       "    }\n",
       "\n",
       "    .dataframe thead th {\n",
       "        text-align: right;\n",
       "    }\n",
       "</style>\n",
       "<table border=\"1\" class=\"dataframe\">\n",
       "  <thead>\n",
       "    <tr style=\"text-align: right;\">\n",
       "      <th></th>\n",
       "      <th>referral_id</th>\n",
       "      <th>patient_id</th>\n",
       "      <th>patient_name</th>\n",
       "      <th>patient_date_of_birth</th>\n",
       "      <th>patient_sex</th>\n",
       "      <th>gp_suggested_priority</th>\n",
       "      <th>gp_suggested_specialty</th>\n",
       "      <th>referral_short_text</th>\n",
       "      <th>referral_date</th>\n",
       "      <th>referring_gp_site_name</th>\n",
       "    </tr>\n",
       "  </thead>\n",
       "  <tbody>\n",
       "    <tr>\n",
       "      <th>42</th>\n",
       "      <td>0000 0009 8880</td>\n",
       "      <td>919 000 0000</td>\n",
       "      <td>Wilde, MR MARTIN MARTY</td>\n",
       "      <td>01/01/1971</td>\n",
       "      <td>Male</td>\n",
       "      <td>Routine</td>\n",
       "      <td>Sleep Medicine/Excessive</td>\n",
       "      <td>Obstructive sleep apnoea</td>\n",
       "      <td>25-Mar-2020</td>\n",
       "      <td>Yorkshire Hospital Provider</td>\n",
       "    </tr>\n",
       "  </tbody>\n",
       "</table>\n",
       "</div>"
      ],
      "text/plain": [
       "       referral_id    patient_id            patient_name  \\\n",
       "42  0000 0009 8880  919 000 0000  Wilde, MR MARTIN MARTY   \n",
       "\n",
       "   patient_date_of_birth patient_sex gp_suggested_priority  \\\n",
       "42            01/01/1971        Male               Routine   \n",
       "\n",
       "       gp_suggested_specialty        referral_short_text referral_date  \\\n",
       "42  Sleep Medicine/Excessive   Obstructive sleep apnoea    25-Mar-2020   \n",
       "\n",
       "         referring_gp_site_name  \n",
       "42  Yorkshire Hospital Provider  "
      ]
     },
     "execution_count": 5,
     "metadata": {},
     "output_type": "execute_result"
    }
   ],
   "source": [
    "df = pd.DataFrame(lines)\n",
    "df.drop_duplicates(['referral_id'],keep='last')\n",
    "\n"
   ]
  },
  {
   "cell_type": "code",
   "execution_count": 6,
   "id": "75a13f09",
   "metadata": {},
   "outputs": [],
   "source": [
    "df.drop_duplicates(['referral_id'],keep='last').to_csv('Example_Clinical_Information_Summary.csv', index=False)"
   ]
  }
 ],
 "metadata": {
  "kernelspec": {
   "display_name": "Python 3",
   "language": "python",
   "name": "python3"
  },
  "language_info": {
   "codemirror_mode": {
    "name": "ipython",
    "version": 3
   },
   "file_extension": ".py",
   "mimetype": "text/x-python",
   "name": "python",
   "nbconvert_exporter": "python",
   "pygments_lexer": "ipython3",
   "version": "3.8.8"
  }
 },
 "nbformat": 4,
 "nbformat_minor": 5
}
